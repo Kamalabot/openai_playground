{
 "cells": [
  {
   "cell_type": "markdown",
   "id": "bd1a7cb2",
   "metadata": {},
   "source": [
    "Basic exploration of the openai end point with their api key."
   ]
  },
  {
   "cell_type": "code",
   "execution_count": 9,
   "id": "66b9037f",
   "metadata": {},
   "outputs": [],
   "source": [
    "import json, openai, pandas\n",
    "import warnings\n",
    "import os\n",
    "from gtts import gTTS\n",
    "warnings.filterwarnings('ignore')\n",
    "import configparser"
   ]
  },
  {
   "cell_type": "code",
   "execution_count": 10,
   "id": "91b4b71f",
   "metadata": {},
   "outputs": [],
   "source": [
    "readKey = configparser.ConfigParser()\n",
    "readKey.read_file(open('apidata.config'))"
   ]
  },
  {
   "cell_type": "code",
   "execution_count": 11,
   "id": "f1222ba0",
   "metadata": {},
   "outputs": [],
   "source": [
    "org = readKey[\"OPENAI\"][\"ORG\"]\n",
    "key = readKey[\"OPENAI\"][\"KEY\"]"
   ]
  },
  {
   "cell_type": "code",
   "execution_count": 12,
   "id": "8daf0ca7",
   "metadata": {},
   "outputs": [],
   "source": [
    "openai.organization = org\n",
    "openai.api_key= key"
   ]
  },
  {
   "cell_type": "code",
   "execution_count": 5,
   "id": "d8cde569",
   "metadata": {},
   "outputs": [],
   "source": [
    "modelList = [[data['id'],data['root']] for data in openai.Model.list()['data']]"
   ]
  },
  {
   "cell_type": "code",
   "execution_count": 6,
   "id": "99207d79",
   "metadata": {
    "scrolled": true
   },
   "outputs": [
    {
     "data": {
      "text/plain": [
       "[['babbage', 'babbage'], ['ada', 'ada']]"
      ]
     },
     "execution_count": 6,
     "metadata": {},
     "output_type": "execute_result"
    }
   ],
   "source": [
    "modelList[:2]"
   ]
  },
  {
   "cell_type": "code",
   "execution_count": 13,
   "id": "ffa62d95",
   "metadata": {},
   "outputs": [],
   "source": [
    "response = openai.Completion.create(\n",
    "  model=\"code-davinci-002\",\n",
    "  prompt=\"import pandas as pd\\n import numpy as np\",\n",
    "  temperature=0,\n",
    "  max_tokens=256,\n",
    "  top_p=1,\n",
    "  frequency_penalty=0,\n",
    "  presence_penalty=0\n",
    ")"
   ]
  },
  {
   "cell_type": "code",
   "execution_count": 26,
   "id": "5fcb6d20",
   "metadata": {},
   "outputs": [],
   "source": [
    "from pprint import pp\n",
    "program = response[\"choices\"][0][\"text\"]"
   ]
  },
  {
   "cell_type": "code",
   "execution_count": 19,
   "id": "32e268c6",
   "metadata": {},
   "outputs": [],
   "source": [
    "response = openai.Completion.create(\n",
    "  model=\"code-davinci-002\",\n",
    "  prompt=\"5 New movies that released in Tamilnadu in 2022\",\n",
    "  temperature=0,\n",
    "  max_tokens=256,\n",
    "  top_p=1,\n",
    "  frequency_penalty=0,\n",
    "  presence_penalty=0\n",
    ")"
   ]
  },
  {
   "cell_type": "code",
   "execution_count": 20,
   "id": "b85c020c",
   "metadata": {
    "scrolled": true
   },
   "outputs": [],
   "source": [
    "replyText = response[\"choices\"][0]['text']"
   ]
  },
  {
   "cell_type": "code",
   "execution_count": 15,
   "id": "7f29f987",
   "metadata": {},
   "outputs": [],
   "source": [
    "from pprint import pp"
   ]
  },
  {
   "cell_type": "code",
   "execution_count": 16,
   "id": "fbbea04a",
   "metadata": {},
   "outputs": [],
   "source": [
    "gttsLang = 'en'"
   ]
  },
  {
   "cell_type": "code",
   "execution_count": 21,
   "id": "42211ec1",
   "metadata": {},
   "outputs": [],
   "source": [
    "replyObj = gTTS(text=replyText,lang=gttsLang,slow=False)"
   ]
  },
  {
   "cell_type": "code",
   "execution_count": 22,
   "id": "8ffac2d6",
   "metadata": {},
   "outputs": [],
   "source": [
    "replyObj.save('reply.mp4')"
   ]
  }
 ],
 "metadata": {
  "kernelspec": {
   "display_name": "Python 3 (ipykernel)",
   "language": "python",
   "name": "python3"
  },
  "language_info": {
   "codemirror_mode": {
    "name": "ipython",
    "version": 3
   },
   "file_extension": ".py",
   "mimetype": "text/x-python",
   "name": "python",
   "nbconvert_exporter": "python",
   "pygments_lexer": "ipython3",
   "version": "3.10.8"
  }
 },
 "nbformat": 4,
 "nbformat_minor": 5
}
