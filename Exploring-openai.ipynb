{
 "cells": [
  {
   "cell_type": "markdown",
   "id": "bd1a7cb2",
   "metadata": {},
   "source": [
    "Basic exploration of the openai end point with their api key."
   ]
  },
  {
   "cell_type": "code",
   "execution_count": 1,
   "id": "66b9037f",
   "metadata": {},
   "outputs": [],
   "source": [
    "import json, openai, pandas\n",
    "import warnings\n",
    "import os\n",
    "from gtts import gTTS\n",
    "warnings.filterwarnings('ignore')\n",
    "import configparser"
   ]
  },
  {
   "cell_type": "code",
   "execution_count": 2,
   "id": "91b4b71f",
   "metadata": {},
   "outputs": [],
   "source": [
    "readKey = configparser.ConfigParser()\n",
    "readKey.read_file(open('apidata.config'))"
   ]
  },
  {
   "cell_type": "code",
   "execution_count": 4,
   "id": "f1222ba0",
   "metadata": {},
   "outputs": [],
   "source": [
    "org = readKey[\"OPENAI\"][\"ORG\"]\n",
    "key = readKey[\"OPENAI\"][\"KEY\"]\n",
    "file = readKey[\"OPENAI\"][\"FILE\"]"
   ]
  },
  {
   "cell_type": "code",
   "execution_count": 5,
   "id": "179a2ed9",
   "metadata": {},
   "outputs": [
    {
     "data": {
      "text/plain": [
       "'/run/media/solverbot/repoA/gitFolders/botoPersonal/chat_history.json'"
      ]
     },
     "execution_count": 5,
     "metadata": {},
     "output_type": "execute_result"
    }
   ],
   "source": [
    "file"
   ]
  },
  {
   "cell_type": "code",
   "execution_count": null,
   "id": "8daf0ca7",
   "metadata": {},
   "outputs": [],
   "source": [
    "openai.organization = org\n",
    "openai.api_key= key"
   ]
  },
  {
   "cell_type": "code",
   "execution_count": null,
   "id": "d8cde569",
   "metadata": {},
   "outputs": [],
   "source": [
    "modelList = [[data['id'],data['root']] for data in openai.Model.list()['data']]"
   ]
  },
  {
   "cell_type": "code",
   "execution_count": 7,
   "id": "38bf8acd",
   "metadata": {},
   "outputs": [],
   "source": [
    "with open(file,'a+') as fp:\n",
    "    fp.write(json.dumps({\"data\":'I am writing'}))"
   ]
  },
  {
   "cell_type": "code",
   "execution_count": 8,
   "id": "4d372da7",
   "metadata": {},
   "outputs": [],
   "source": [
    "with open(file,'a+') as fp:\n",
    "    fp.write(json.dumps({\"data\":'I am writing'}))"
   ]
  },
  {
   "cell_type": "code",
   "execution_count": null,
   "id": "99207d79",
   "metadata": {
    "scrolled": true
   },
   "outputs": [],
   "source": [
    "modelList[:10]"
   ]
  },
  {
   "cell_type": "code",
   "execution_count": null,
   "id": "ffa62d95",
   "metadata": {},
   "outputs": [],
   "source": [
    "response = openai.Completion.create(\n",
    "  model=\"code-davinci-002\",\n",
    "  prompt=\"What is AWS Redshift product\",\n",
    "  temperature=0,\n",
    "  max_tokens=256,\n",
    "  top_p=1,\n",
    "  frequency_penalty=0,\n",
    "  presence_penalty=0\n",
    ")"
   ]
  },
  {
   "cell_type": "code",
   "execution_count": null,
   "id": "5fcb6d20",
   "metadata": {},
   "outputs": [],
   "source": [
    "from pprint import pp\n",
    "output = response[\"choices\"][0][\"text\"]"
   ]
  },
  {
   "cell_type": "code",
   "execution_count": null,
   "id": "1f49720e",
   "metadata": {},
   "outputs": [],
   "source": [
    "pp(output.replace('\\n',''))"
   ]
  },
  {
   "cell_type": "code",
   "execution_count": null,
   "id": "32e268c6",
   "metadata": {},
   "outputs": [],
   "source": [
    "response = openai.Completion.create(\n",
    "  model=\"code-davinci-002\",\n",
    "  prompt=\"5 New movies that released in Tamilnadu in 2022\",\n",
    "  temperature=0,\n",
    "  max_tokens=256,\n",
    "  top_p=1,\n",
    "  frequency_penalty=0,\n",
    "  presence_penalty=0\n",
    ")"
   ]
  },
  {
   "cell_type": "code",
   "execution_count": null,
   "id": "b85c020c",
   "metadata": {
    "scrolled": true
   },
   "outputs": [],
   "source": [
    "replyText = response[\"choices\"][0]['text']"
   ]
  },
  {
   "cell_type": "code",
   "execution_count": null,
   "id": "7f29f987",
   "metadata": {},
   "outputs": [],
   "source": [
    "from pprint import pp"
   ]
  },
  {
   "cell_type": "code",
   "execution_count": null,
   "id": "fbbea04a",
   "metadata": {},
   "outputs": [],
   "source": [
    "gttsLang = 'en'"
   ]
  },
  {
   "cell_type": "code",
   "execution_count": null,
   "id": "a6ffd706",
   "metadata": {},
   "outputs": [],
   "source": [
    "output = \"Amazon Redshift is a fully managed, petabyte-scale data warehouse service in the cloud. You can start with just a few hundred gigabytes of data and scale to a petabyte or more. This enables you to use your data to acquire new insights for your business and customers.\\n\\nWhat is AWS Redshift used for?\\n\\nAmazon Redshift is a fast, fully managed, petabyte-scale data warehouse service that makes it simple and cost-effective to efficiently analyze all your data using your existing business intelligence tools.\\n\\nWhat is AWS Redshift Spectrum?\\n\\nAmazon Redshift Spectrum is a feature of Amazon Redshift that enables you to run Amazon Redshift SQL queries against exabytes of unstructured data in Amazon S3. Amazon Redshift Spectrum uses the same SQL syntax and JDBC/ODBC drivers as Amazon Redshift.\""
   ]
  },
  {
   "cell_type": "code",
   "execution_count": null,
   "id": "42211ec1",
   "metadata": {},
   "outputs": [],
   "source": [
    "replyObj = gTTS(text=output,lang=gttsLang,tld=\"com.au\",slow=False)"
   ]
  },
  {
   "cell_type": "code",
   "execution_count": null,
   "id": "9edf308f",
   "metadata": {},
   "outputs": [],
   "source": [
    "replyObj.save('trial.mp3')"
   ]
  },
  {
   "cell_type": "code",
   "execution_count": null,
   "id": "8ffac2d6",
   "metadata": {},
   "outputs": [],
   "source": [
    "replyObj.save('AmazonRedshift.mp3')"
   ]
  }
 ],
 "metadata": {
  "kernelspec": {
   "display_name": "Python 3 (ipykernel)",
   "language": "python",
   "name": "python3"
  },
  "language_info": {
   "codemirror_mode": {
    "name": "ipython",
    "version": 3
   },
   "file_extension": ".py",
   "mimetype": "text/x-python",
   "name": "python",
   "nbconvert_exporter": "python",
   "pygments_lexer": "ipython3",
   "version": "3.10.9"
  }
 },
 "nbformat": 4,
 "nbformat_minor": 5
}
